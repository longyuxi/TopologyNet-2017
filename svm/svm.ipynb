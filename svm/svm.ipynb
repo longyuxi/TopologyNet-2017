{
 "cells": [
  {
   "cell_type": "code",
   "execution_count": null,
   "metadata": {},
   "outputs": [],
   "source": [
    "from dispatch_jobs import DB, KEY_PREFIX\n",
    "import pickle\n",
    "import logging\n",
    "\n",
    "logging.info(f'key prefix is {KEY_PREFIX}')\n",
    "keys = DB.keys(KEY_PREFIX + '*')"
   ]
  },
  {
   "cell_type": "code",
   "execution_count": null,
   "metadata": {},
   "outputs": [],
   "source": [
    "key = keys[0]"
   ]
  },
  {
   "cell_type": "code",
   "execution_count": null,
   "metadata": {},
   "outputs": [],
   "source": [
    "info = DB.hgetall(key)\n",
    "save_file = info['save_file']\n",
    "\n",
    "with open(save_file, 'rb') as f:\n",
    "    d = pickle.load(f)\n",
    "\n",
    "pw_opposition_diagrams = d['pw_opposition_diagrams']  # list of 36 diagrams, each of shape (1, n, 3)\n",
    "other_persistence_diagrams = d['other_persistence_diagrams']  # other_persistence_diagrams: list of 4 diagrams, each of shape (1, n, 3)\n",
    "\n",
    "# For this first draft, just use one diagram\n",
    "\n",
    "diagram = pw_opposition_diagrams[0]\n"
   ]
  }
 ],
 "metadata": {
  "language_info": {
   "name": "python"
  },
  "orig_nbformat": 4
 },
 "nbformat": 4,
 "nbformat_minor": 2
}
